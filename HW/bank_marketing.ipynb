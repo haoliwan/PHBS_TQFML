{
 "cells": [
  {
   "cell_type": "markdown",
   "metadata": {},
   "source": [
    "# Homework 2 "
   ]
  },
  {
   "cell_type": "markdown",
   "metadata": {},
   "source": [
    "# Preprocessing the data"
   ]
  },
  {
   "cell_type": "markdown",
   "metadata": {},
   "source": [
    "To begin the preprocessing ,we first input data."
   ]
  },
  {
   "cell_type": "code",
   "execution_count": 1,
   "metadata": {},
   "outputs": [],
   "source": [
    "import pandas as pd\n",
    "banktemp=pd.read_csv('E:\\\\bank.csv',sep=';')"
   ]
  },
  {
   "cell_type": "markdown",
   "metadata": {},
   "source": [
    "To simplify the procedure, I choose two feature in the beginning. And also check whether there are missing data in our dataset.  "
   ]
  },
  {
   "cell_type": "code",
   "execution_count": 2,
   "metadata": {
    "scrolled": true
   },
   "outputs": [
    {
     "data": {
      "text/plain": [
       "age        0\n",
       "balance    0\n",
       "y          0\n",
       "dtype: int64"
      ]
     },
     "execution_count": 2,
     "metadata": {},
     "output_type": "execute_result"
    }
   ],
   "source": [
    "import numpy as np\n",
    "bank=banktemp.loc[:,['age','balance','y']]\n",
    "bank.isnull().sum() "
   ]
  },
  {
   "cell_type": "markdown",
   "metadata": {
    "scrolled": true
   },
   "source": [
    "As we can see, there are two nominal variable 'y'. Therefore, I use the map code to mapping ordinal features."
   ]
  },
  {
   "cell_type": "code",
   "execution_count": 3,
   "metadata": {
    "scrolled": true
   },
   "outputs": [],
   "source": [
    "y_mapping={'no':0,'yes':1}\n",
    "bank['y']=bank['y'].map(y_mapping)"
   ]
  },
  {
   "cell_type": "markdown",
   "metadata": {
    "scrolled": true
   },
   "source": [
    "Here, I seperate the train and test data, and assign 30% of the samples to x_test and y_test."
   ]
  },
  {
   "cell_type": "code",
   "execution_count": 9,
   "metadata": {},
   "outputs": [
    {
     "data": {
      "text/plain": [
       "(      age  balance\n",
       " 4473   33     4790\n",
       " 844    40       65\n",
       " 191    33      215\n",
       " 132    43     -715\n",
       " 3856   42       83\n",
       " 1516   29      242\n",
       " 775    37      168\n",
       " 843    59      671\n",
       " 2835   37      489\n",
       " 3906   51      844\n",
       " 1453   30      518\n",
       " 206    42     2030\n",
       " 3329   34    13204\n",
       " 403    48     -285\n",
       " 1761   35      251\n",
       " 3429   41     7735\n",
       " 4062   43      109\n",
       " 2645   33     3074\n",
       " 4179   34     -566\n",
       " 2255   36     1531\n",
       " 2822   38      170\n",
       " 734    28       26\n",
       " 2979   56      359\n",
       " 1514   32      167\n",
       " 2136   34        0\n",
       " 194    23     9216\n",
       " 2955   49    12531\n",
       " 199    75     3771\n",
       " 165    31     2104\n",
       " 2796   56     1270\n",
       " ...   ...      ...\n",
       " 473    61     4608\n",
       " 2561   35        0\n",
       " 184    34      -62\n",
       " 947    40      888\n",
       " 2597   35     -587\n",
       " 696    41     6000\n",
       " 1038   41      176\n",
       " 4071   28       12\n",
       " 1925   33        0\n",
       " 1160   38      157\n",
       " 4180   33      210\n",
       " 2772   48      414\n",
       " 1643   29      330\n",
       " 2578   42        0\n",
       " 1018   55      466\n",
       " 2906   34        0\n",
       " 705    35     1354\n",
       " 4311   46     1790\n",
       " 94     57    14093\n",
       " 2626   48     5366\n",
       " 246    42     -189\n",
       " 3395   40     1416\n",
       " 748    35     2643\n",
       " 318    35     2971\n",
       " 203    39     1315\n",
       " 1056   63     3904\n",
       " 3828   31     -120\n",
       " 2722   53       25\n",
       " 1494   27     -124\n",
       " 3218   49     1916\n",
       " \n",
       " [3164 rows x 2 columns],       age  balance\n",
       " 3645   39        6\n",
       " 426    36      973\n",
       " 1419   34     1171\n",
       " 3751   39      116\n",
       " 85     51     1466\n",
       " 2294   48      197\n",
       " 2582   32        9\n",
       " 559    47     2914\n",
       " 2665   27     3733\n",
       " 2446   30      -28\n",
       " 455    42      117\n",
       " 563    50     2497\n",
       " 2214   42     -280\n",
       " 786    51        0\n",
       " 3342   42     8131\n",
       " 486    55     -404\n",
       " 2304   57      139\n",
       " 1822   31      156\n",
       " 524    45     -839\n",
       " 331    29      828\n",
       " 1540   31     1210\n",
       " 2620   28     1453\n",
       " 4069   45     -179\n",
       " 1732   48     1910\n",
       " 2747   27        7\n",
       " 3332   31    22546\n",
       " 2193   39        0\n",
       " 923    32      -63\n",
       " 1939   45      315\n",
       " 3795   39     5731\n",
       " ...   ...      ...\n",
       " 4237   33     2085\n",
       " 2925   52      -97\n",
       " 2443   29      218\n",
       " 3386   32      517\n",
       " 2897   40      326\n",
       " 2438   39      691\n",
       " 1630   32        1\n",
       " 2385   47     3333\n",
       " 2221   34      573\n",
       " 1302   46      494\n",
       " 3331   53     2240\n",
       " 2592   33        0\n",
       " 2968   46     4855\n",
       " 1566   45     2418\n",
       " 1256   55      218\n",
       " 1998   53     1378\n",
       " 2022   33     3170\n",
       " 519    61     5207\n",
       " 3021   43       60\n",
       " 2798   36      141\n",
       " 2719   32      230\n",
       " 1040   55     1613\n",
       " 4169   35      221\n",
       " 4182   50      579\n",
       " 1583   26      484\n",
       " 3939   35      243\n",
       " 3257   31     1588\n",
       " 2642   46      143\n",
       " 2147   31     1970\n",
       " 1690   46      751\n",
       " \n",
       " [1357 rows x 2 columns], 4473    0\n",
       " 844     0\n",
       " 191     0\n",
       " 132     0\n",
       " 3856    0\n",
       " 1516    0\n",
       " 775     0\n",
       " 843     0\n",
       " 2835    0\n",
       " 3906    0\n",
       " 1453    0\n",
       " 206     0\n",
       " 3329    0\n",
       " 403     0\n",
       " 1761    0\n",
       " 3429    0\n",
       " 4062    0\n",
       " 2645    0\n",
       " 4179    0\n",
       " 2255    0\n",
       " 2822    1\n",
       " 734     0\n",
       " 2979    0\n",
       " 1514    0\n",
       " 2136    0\n",
       " 194     0\n",
       " 2955    0\n",
       " 199     1\n",
       " 165     0\n",
       " 2796    0\n",
       "        ..\n",
       " 473     1\n",
       " 2561    0\n",
       " 184     0\n",
       " 947     0\n",
       " 2597    0\n",
       " 696     0\n",
       " 1038    0\n",
       " 4071    0\n",
       " 1925    0\n",
       " 1160    0\n",
       " 4180    0\n",
       " 2772    0\n",
       " 1643    0\n",
       " 2578    0\n",
       " 1018    0\n",
       " 2906    0\n",
       " 705     1\n",
       " 4311    0\n",
       " 94      0\n",
       " 2626    0\n",
       " 246     0\n",
       " 3395    0\n",
       " 748     0\n",
       " 318     1\n",
       " 203     0\n",
       " 1056    1\n",
       " 3828    0\n",
       " 2722    1\n",
       " 1494    0\n",
       " 3218    0\n",
       " Name: y, Length: 3164, dtype: int64, 3645    0\n",
       " 426     0\n",
       " 1419    0\n",
       " 3751    0\n",
       " 85      0\n",
       " 2294    0\n",
       " 2582    0\n",
       " 559     0\n",
       " 2665    1\n",
       " 2446    0\n",
       " 455     0\n",
       " 563     0\n",
       " 2214    0\n",
       " 786     0\n",
       " 3342    0\n",
       " 486     0\n",
       " 2304    0\n",
       " 1822    1\n",
       " 524     0\n",
       " 331     0\n",
       " 1540    0\n",
       " 2620    0\n",
       " 4069    0\n",
       " 1732    0\n",
       " 2747    0\n",
       " 3332    0\n",
       " 2193    0\n",
       " 923     0\n",
       " 1939    0\n",
       " 3795    0\n",
       "        ..\n",
       " 4237    1\n",
       " 2925    0\n",
       " 2443    0\n",
       " 3386    0\n",
       " 2897    0\n",
       " 2438    0\n",
       " 1630    0\n",
       " 2385    0\n",
       " 2221    0\n",
       " 1302    0\n",
       " 3331    1\n",
       " 2592    0\n",
       " 2968    0\n",
       " 1566    0\n",
       " 1256    0\n",
       " 1998    0\n",
       " 2022    0\n",
       " 519     0\n",
       " 3021    0\n",
       " 2798    0\n",
       " 2719    1\n",
       " 1040    1\n",
       " 4169    0\n",
       " 4182    0\n",
       " 1583    0\n",
       " 3939    0\n",
       " 3257    0\n",
       " 2642    0\n",
       " 2147    0\n",
       " 1690    0\n",
       " Name: y, Length: 1357, dtype: int64)"
      ]
     },
     "execution_count": 9,
     "metadata": {},
     "output_type": "execute_result"
    }
   ],
   "source": [
    "from sklearn.model_selection import train_test_split\n",
    "X=bank.iloc[:,[0,1]]\n",
    "y=bank.iloc[:,2]\n",
    "X_train,X_test,y_train,y_test=train_test_split(X,y,test_size=0.3,random_state=123,stratify=y)\n",
    "X_train,X_test,y_train,y_test"
   ]
  },
  {
   "cell_type": "markdown",
   "metadata": {
    "scrolled": true
   },
   "source": [
    "Then, except for decision trees and random forests, all other algorithms need us to normalize the data,and bring features onto the same scale."
   ]
  },
  {
   "cell_type": "code",
   "execution_count": 22,
   "metadata": {},
   "outputs": [],
   "source": [
    "from sklearn.preprocessing import MinMaxScaler\n",
    "\n",
    "mms=MinMaxScaler()\n",
    "X_train_norm=mms.fit_transform(X_train)\n",
    "X_test_norm=mms.fit_transform(X_test)\n",
    "\n",
    "from sklearn.preprocessing import StandardScaler\n",
    "\n",
    "sc = StandardScaler()\n",
    "sc.fit(X_train)\n",
    "X_train_std= sc.transform(X_train)\n",
    "X_test_std = sc.transform(X_test)"
   ]
  },
  {
   "cell_type": "markdown",
   "metadata": {
    "scrolled": true
   },
   "source": [
    "# Modeling class probabilities via logistic regression"
   ]
  },
  {
   "cell_type": "markdown",
   "metadata": {
    "scrolled": true
   },
   "source": [
    "Implement a small convenience function to visualize the decision boundaries for two-dimensional datasets."
   ]
  },
  {
   "cell_type": "code",
   "execution_count": 11,
   "metadata": {},
   "outputs": [],
   "source": [
    "from matplotlib.colors import ListedColormap\n",
    "import matplotlib.pyplot as plt\n",
    "\n",
    "\n",
    "def plot_decision_regions(X, y, classifier, test_idx=None, resolution=0.02):\n",
    "\n",
    "    # setup marker generator and color map\n",
    "    markers = ('s', 'x', 'o', '^', 'v')\n",
    "    colors = ('red', 'blue', 'lightgreen', 'gray', 'cyan')\n",
    "    cmap = ListedColormap(colors[:len(np.unique(y))])\n",
    "\n",
    "    # plot the decision surface\n",
    "    x1_min, x1_max = X[:, 0].min() - 1, X[:, 0].max() + 1\n",
    "    x2_min, x2_max = X[:, 1].min() - 1, X[:, 1].max() + 1\n",
    "    xx1, xx2 = np.meshgrid(np.arange(x1_min, x1_max, resolution),np.arange(x2_min, x2_max, resolution))\n",
    "    Z = classifier.predict(np.array([xx1.ravel(), xx2.ravel()]).T)\n",
    "    Z = Z.reshape(xx1.shape)\n",
    "    plt.contourf(xx1, xx2, Z, alpha=0.3, cmap=cmap)\n",
    "    plt.xlim(xx1.min(), xx1.max())\n",
    "    plt.ylim(xx2.min(), xx2.max())\n",
    "\n",
    "    for idx, cl in enumerate(np.unique(y)):\n",
    "        plt.scatter(x=X[y == cl, 0], \n",
    "                    y=X[y == cl, 1],\n",
    "                    alpha=0.8, \n",
    "                    c=colors[idx],\n",
    "                    marker=markers[idx], \n",
    "                    label=cl, \n",
    "                    edgecolor='black')\n",
    "\n",
    "    # highlight test samples\n",
    "    if test_idx:\n",
    "        # plot all samples\n",
    "        X_test, y_test = X[test_idx, :], y[test_idx]\n",
    "\n",
    "        plt.scatter(X_test[:, 0],\n",
    "                    X_test[:, 1],\n",
    "                    c='',\n",
    "                    edgecolor='black',\n",
    "                    alpha=1.0,\n",
    "                    linewidth=1,\n",
    "                    marker='o',\n",
    "                    s=100, \n",
    "                    label='test set')"
   ]
  },
  {
   "cell_type": "markdown",
   "metadata": {},
   "source": [
    "Use the logistic regression and show the accuracy score."
   ]
  },
  {
   "cell_type": "code",
   "execution_count": 12,
   "metadata": {},
   "outputs": [
    {
     "name": "stdout",
     "output_type": "stream",
     "text": [
      "Accuracy: 0.8850\n"
     ]
    }
   ],
   "source": [
    "from sklearn.linear_model import LogisticRegression\n",
    "lr = LogisticRegression(C=1000.0, random_state=1)  \n",
    "lr.fit(X_train_norm, y_train)\n",
    "from sklearn.metrics import accuracy_score\n",
    "y_score=accuracy_score(y_test,lr.predict(X_test_norm))\n",
    "print('Accuracy: %.4f' % y_score)"
   ]
  },
  {
   "cell_type": "markdown",
   "metadata": {},
   "source": [
    "Visualize the outcome."
   ]
  },
  {
   "cell_type": "code",
   "execution_count": 13,
   "metadata": {},
   "outputs": [
    {
     "data": {
      "image/png": "[encoded data removed]",
      "text/plain": [
       "<matplotlib.figure.Figure at 0x2953ce5d080>"
      ]
     },
     "metadata": {},
     "output_type": "display_data"
    }
   ],
   "source": [
    "X_combined_norm = np.vstack((X_train_norm, X_test_norm))\n",
    "X_combined_std=np.vstack((X_train_std, X_test_std))\n",
    "y_combined = np.hstack((y_train, y_test))\n",
    "plot_decision_regions(X_combined_norm, y_combined,classifier=lr,test_idx=range(105, 150))\n",
    "plt.xlabel('Age [normalized]')\n",
    "plt.ylabel('Balance [normalized]')\n",
    "plt.legend(loc='upper left')\n",
    "plt.tight_layout()\n",
    "plt.show()"
   ]
  },
  {
   "cell_type": "markdown",
   "metadata": {},
   "source": [
    "# Maximum margin classification with support vector machines"
   ]
  },
  {
   "cell_type": "markdown",
   "metadata": {},
   "source": [
    "Processing SVM model and give the accuracy of SVM. The kernel is rbf since the data are linear inseperable. "
   ]
  },
  {
   "cell_type": "code",
   "execution_count": 14,
   "metadata": {},
   "outputs": [
    {
     "name": "stdout",
     "output_type": "stream",
     "text": [
      "Accuracy: 0.8850\n"
     ]
    }
   ],
   "source": [
    "from sklearn.svm import SVC\n",
    "svm = SVC(kernel='rbf', random_state=1, gamma=100.0, C=1.0)\n",
    "svm.fit(X_train_std, y_train)\n",
    "y_score_svm=accuracy_score(y_test,lr.predict(X_test_norm))\n",
    "print('Accuracy: %.4f' % y_score_svm)"
   ]
  },
  {
   "cell_type": "markdown",
   "metadata": {},
   "source": [
    "Visualize the outcome of SVM."
   ]
  },
  {
   "cell_type": "code",
   "execution_count": 15,
   "metadata": {},
   "outputs": [
    {
     "data": {
      "image/png": "[encoded data removed]",
      "text/plain": [
       "<matplotlib.figure.Figure at 0x2953e793048>"
      ]
     },
     "metadata": {},
     "output_type": "display_data"
    }
   ],
   "source": [
    "plot_decision_regions(X_combined_std, y_combined,classifier=svm, test_idx=range(105, 150))\n",
    "plt.xlabel('Age [standardized]')\n",
    "plt.ylabel('Balance [standardized]')\n",
    "plt.legend(loc='upper left')\n",
    "plt.tight_layout()\n",
    "plt.show()"
   ]
  },
  {
   "cell_type": "markdown",
   "metadata": {},
   "source": [
    "# Decision Tree Learning"
   ]
  },
  {
   "cell_type": "markdown",
   "metadata": {},
   "source": [
    "Building a decesion tree and evaluate the accuracy score."
   ]
  },
  {
   "cell_type": "code",
   "execution_count": 28,
   "metadata": {},
   "outputs": [
    {
     "name": "stdout",
     "output_type": "stream",
     "text": [
      "Accuracy: 0.8799\n"
     ]
    }
   ],
   "source": [
    "from sklearn.tree import DecisionTreeClassifier\n",
    "tree = DecisionTreeClassifier(criterion='gini',max_depth=4,random_state=1)\n",
    "tree.fit(X_train_norm, y_train)\n",
    "y_score_tree=accuracy_score(y_test,tree.predict(X_test_norm))\n",
    "print('Accuracy: %.4f' % y_score_tree)"
   ]
  },
  {
   "cell_type": "markdown",
   "metadata": {},
   "source": [
    "Visualize the decesion tree."
   ]
  },
  {
   "cell_type": "code",
   "execution_count": 29,
   "metadata": {},
   "outputs": [
    {
     "data": {
      "image/png": "[encoded data removed]",
      "text/plain": [
       "<matplotlib.figure.Figure at 0x2953fbf17f0>"
      ]
     },
     "metadata": {},
     "output_type": "display_data"
    }
   ],
   "source": [
    "X_combined = np.vstack((X_train_norm, X_test_norm))\n",
    "y_combined = np.hstack((y_train, y_test))\n",
    "plot_decision_regions(X_combined, y_combined,classifier=tree, test_idx=range(105, 150))\n",
    "\n",
    "plt.xlabel('age[years old]')\n",
    "plt.ylabel('Balance[dollar]')\n",
    "plt.legend(loc='upper left')\n",
    "plt.tight_layout()\n",
    "plt.show()"
   ]
  }
 ],
 "metadata": {
  "kernelspec": {
   "display_name": "Python 3",
   "language": "python",
   "name": "python3"
  },
  "language_info": {
   "codemirror_mode": {
    "name": "ipython",
    "version": 3
   },
   "file_extension": ".py",
   "mimetype": "text/x-python",
   "name": "python",
   "nbconvert_exporter": "python",
   "pygments_lexer": "ipython3",
   "version": "3.6.4"
  }
 },
 "nbformat": 4,
 "nbformat_minor": 2
}
